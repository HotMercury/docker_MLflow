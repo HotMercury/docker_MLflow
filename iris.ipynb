{
  "nbformat": 4,
  "nbformat_minor": 0,
  "metadata": {
    "colab": {
      "name": "iris.ipynb",
      "provenance": [],
      "collapsed_sections": []
    },
    "kernelspec": {
      "name": "python3",
      "display_name": "Python 3"
    },
    "language_info": {
      "name": "python"
    }
  },
  "cells": [
    {
      "cell_type": "code",
      "metadata": {
        "id": "ogWFrbZ5kvs7",
        "colab": {
          "base_uri": "https://localhost:8080/",
          "height": 606
        },
        "outputId": "811dd57f-7036-433d-e800-d3c6aafa8aef"
      },
      "source": [
        "from sklearn.datasets import load_iris\n",
        "from sklearn import metrics\n",
        "from sklearn.model_selection import train_test_split\n",
        "from sklearn.tree import DecisionTreeClassifier\n",
        "import mlflow\n",
        "import mlflow.sklearn\n",
        "mlflow.sklearn.autolog()\n",
        "\n",
        "def load_iris_data():\n",
        "    data = load_iris()\n",
        "    X = data.data\n",
        "    y = data.target\n",
        "    X_train, X_test, y_train, y_test = train_test_split(X,y, test_size = 0.25, random_state = 10)\n",
        "    input_data = (X_train, X_test, y_train, y_test)\n",
        "    return input_data\n",
        "\n",
        "def train_predict_evaluate_dtree(input_data, params):\n",
        "    with mlflow.start_run(run_name = \"Decision Tree Classifier Experiments\"):\n",
        "        X_train, X_test, y_train, y_test = input_data\n",
        "        clf = DecisionTreeClassifier(random_state=42, max_leaf_nodes=params['leaf_nodes'], max_depth=params['max_depth'])\n",
        "        clf.fit(X_train, y_train)\n",
        "\n",
        "        y_pred = clf.predict(X_test)\n",
        "        test_accuracy = metrics.accuracy_score(y_test, y_pred)\n",
        "        test_f1_score = metrics.f1_score(y_test, y_pred, average='weighted')\n",
        "        test_metrics = (test_accuracy, test_f1_score)\n",
        "        \n",
        "        mlflow.log_metric('test_accuracy' , test_accuracy)\n",
        "        mlflow.log_metric('test_f1_score', test_f1_score)\n",
        "    \n",
        "    return clf, test_metrics\n",
        "\n",
        "input_data = load_iris_data()\n",
        "params = {'leaf_nodes': 3, 'max_depth' :2}\n",
        "model, test_metrics = train_predict_evaluate_dtree(input_data, params)\n"
      ],
      "execution_count": 1,
      "outputs": [
        {
          "output_type": "error",
          "ename": "ModuleNotFoundError",
          "evalue": "ignored",
          "traceback": [
            "\u001b[0;31m---------------------------------------------------------------------------\u001b[0m",
            "\u001b[0;31mModuleNotFoundError\u001b[0m                       Traceback (most recent call last)",
            "\u001b[0;32m<ipython-input-1-f96a6f39506b>\u001b[0m in \u001b[0;36m<module>\u001b[0;34m()\u001b[0m\n\u001b[1;32m      3\u001b[0m \u001b[0;32mfrom\u001b[0m \u001b[0msklearn\u001b[0m\u001b[0;34m.\u001b[0m\u001b[0mmodel_selection\u001b[0m \u001b[0;32mimport\u001b[0m \u001b[0mtrain_test_split\u001b[0m\u001b[0;34m\u001b[0m\u001b[0;34m\u001b[0m\u001b[0m\n\u001b[1;32m      4\u001b[0m \u001b[0;32mfrom\u001b[0m \u001b[0msklearn\u001b[0m\u001b[0;34m.\u001b[0m\u001b[0mtree\u001b[0m \u001b[0;32mimport\u001b[0m \u001b[0mDecisionTreeClassifier\u001b[0m\u001b[0;34m\u001b[0m\u001b[0;34m\u001b[0m\u001b[0m\n\u001b[0;32m----> 5\u001b[0;31m \u001b[0;32mimport\u001b[0m \u001b[0mmlflow\u001b[0m\u001b[0;34m\u001b[0m\u001b[0;34m\u001b[0m\u001b[0m\n\u001b[0m\u001b[1;32m      6\u001b[0m \u001b[0;32mimport\u001b[0m \u001b[0mmlflow\u001b[0m\u001b[0;34m.\u001b[0m\u001b[0msklearn\u001b[0m\u001b[0;34m\u001b[0m\u001b[0;34m\u001b[0m\u001b[0m\n\u001b[1;32m      7\u001b[0m \u001b[0mmlflow\u001b[0m\u001b[0;34m.\u001b[0m\u001b[0msklearn\u001b[0m\u001b[0;34m.\u001b[0m\u001b[0mautolog\u001b[0m\u001b[0;34m(\u001b[0m\u001b[0;34m)\u001b[0m\u001b[0;34m\u001b[0m\u001b[0;34m\u001b[0m\u001b[0m\n",
            "\u001b[0;31mModuleNotFoundError\u001b[0m: No module named 'mlflow'",
            "",
            "\u001b[0;31m---------------------------------------------------------------------------\u001b[0;32m\nNOTE: If your import is failing due to a missing package, you can\nmanually install dependencies using either !pip or !apt.\n\nTo view examples of installing some common dependencies, click the\n\"Open Examples\" button below.\n\u001b[0;31m---------------------------------------------------------------------------\u001b[0m\n"
          ]
        }
      ]
    },
    {
      "cell_type": "code",
      "metadata": {
        "id": "jBWPTL_xrVO6"
      },
      "source": [
        "#change path to model here\n",
        "m = mlflow.sklearn.load_model(\"file:///home/jovyan/mlruns/0/a062c8864e0949f78d41b89f6dcb305c/artifacts/model\")\n",
        "import pandas\n",
        "#change input here\n",
        "te = [(6.7,3.1,3.4,1.4)]\n",
        "df = pandas.DataFrame(te)\n",
        "ir = [\"Iris Setosa\", \"Iris Versicolour\", \"Iris Virginica\"]\n",
        "print(ir[int(pre)])\n"
      ],
      "execution_count": null,
      "outputs": []
    }
  ]
}